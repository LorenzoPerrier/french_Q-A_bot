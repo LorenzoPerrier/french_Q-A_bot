{
 "cells": [
  {
   "cell_type": "code",
   "execution_count": 1,
   "metadata": {},
   "outputs": [
    {
     "name": "stderr",
     "output_type": "stream",
     "text": [
      "c:\\Users\\loren\\OneDrive - ENSTA Paris\\ENSTA\\Q&AML\\env\\lib\\site-packages\\tqdm\\auto.py:22: TqdmWarning: IProgress not found. Please update jupyter and ipywidgets. See https://ipywidgets.readthedocs.io/en/stable/user_install.html\n",
      "  from .autonotebook import tqdm as notebook_tqdm\n"
     ]
    }
   ],
   "source": [
    "from transformers import BertForQuestionAnswering, AutoTokenizer, CamembertForQuestionAnswering, CamembertTokenizer\n",
    "\n",
    "#English\n",
    "#modelname = 'deepset/bert-base-cased-squad2'\n",
    "#model = BertForQuestionAnswering.from_pretrained(modelname)\n",
    "#tokenizer = AutoTokenizer.from_pretrained(modelname)\n",
    "\n",
    "#French\n",
    "modelname = 'etalab-ia/camembert-base-squadFR-fquad-piaf'\n",
    "model_QA = CamembertForQuestionAnswering.from_pretrained(modelname)\n",
    "tokenizer = CamembertTokenizer.from_pretrained(modelname)\n",
    "\n",
    "\n"
   ]
  },
  {
   "cell_type": "code",
   "execution_count": null,
   "metadata": {},
   "outputs": [],
   "source": [
    "#Transform pdf to raw data text\n",
    "from pdfminer.high_level import extract_text\n",
    "\n",
    "text = extract_text(r\"C:\\Users\\loren\\OneDrive - ENSTA Paris\\ENSTA\\Q&AML\\data\\PlaquetteALPHA.pdf\")\n",
    "file = open(r\"C:\\Users\\loren\\OneDrive - ENSTA Paris\\ENSTA\\Q&AML\\data\\data.txt\", \"w\")\n",
    "file.write(text)\n",
    "file.close()"
   ]
  },
  {
   "cell_type": "code",
   "execution_count": 2,
   "metadata": {},
   "outputs": [],
   "source": [
    "#Document retrieval system ----BM25----\n",
    "from rank_bm25 import BM25Okapi\n",
    "import string\n",
    "import re\n",
    "\n",
    "import nltk\n",
    "from nltk.corpus import stopwords\n",
    "#nltk.download('stopwords')\n",
    "\n",
    "import spacy\n",
    "#spacy.cli.download(\"fr_core_news_sm\")\n",
    "nlp_fr = spacy.load(\"fr_core_news_sm\")\n",
    "\n",
    "dataFile = open(r\"C:\\Users\\loren\\OneDrive - ENSTA Paris\\ENSTA\\Q&AML\\data\\data_plaquette_ingenieur.txt\",'r',encoding='utf-8')\n",
    "content = dataFile.read()\n",
    "lines = content.split(\"\\n\")\n",
    "lines = [el for el in lines if el != '']\n",
    "\n",
    "corpus = lines\n",
    "stop_words = set(stopwords.words('french'))\n",
    "\n",
    "\n",
    "def preprocess_text(input_string, string):\n",
    "    input_string = re.sub(\"(\\w)\\'\", \"\",input_string) #ellision\n",
    "    input_string = input_string.translate(str.maketrans('', '', string.punctuation)).lower() #lowercase and ponctuation removal\n",
    "    input_string =\" \".join([word for word in input_string.split() if word.lower() not in stop_words]) #remove stop words\n",
    "    tokens = nlp_fr(input_string)\n",
    "    input_string = \" \".join([token.lemma_ for token in tokens])\n",
    "    return input_string\n",
    "\n",
    "cleaned_corpus = []\n",
    "\n",
    "for doc in corpus:\n",
    "    clean_doc = preprocess_text(doc, string)\n",
    "    cleaned_corpus.append(clean_doc)\n",
    "\n",
    "\n",
    "tokenized_corpus = [doc.split(\" \") for doc in cleaned_corpus]       \n",
    "\n",
    "bm25 = BM25Okapi(tokenized_corpus)\n",
    "\n"
   ]
  },
  {
   "cell_type": "code",
   "execution_count": null,
   "metadata": {},
   "outputs": [],
   "source": [
    "#View results\n",
    "#print(cleaned_corpus)\n",
    "print(tokenized_corpus)\n"
   ]
  },
  {
   "cell_type": "code",
   "execution_count": 4,
   "metadata": {},
   "outputs": [],
   "source": [
    "#Save model\n",
    "import pickle\n",
    "file_name = r\"C:\\Users\\loren\\OneDrive - ENSTA Paris\\ENSTA\\Q&AML\\models\\sample.pkl\"\n",
    "with open(file_name, 'wb') as file:\n",
    "    pickle.dump(bm25, file)\n"
   ]
  },
  {
   "cell_type": "code",
   "execution_count": 5,
   "metadata": {},
   "outputs": [],
   "source": [
    "#Load model\n",
    "with open(file_name, 'rb') as file:\n",
    "    model = pickle.load(file)"
   ]
  },
  {
   "cell_type": "code",
   "execution_count": 73,
   "metadata": {},
   "outputs": [],
   "source": [
    "#Query Retriever\n",
    "query = \"L'ENSTA propose t il des logements ?\"\n",
    "tokenized_query = preprocess_text(query, string).split(\" \")  \n",
    "retrieved_context = bm25.get_top_n(tokenized_query, corpus, n=10)"
   ]
  },
  {
   "cell_type": "code",
   "execution_count": 7,
   "metadata": {},
   "outputs": [],
   "source": [
    "from transformers import pipeline\n",
    "nlp = pipeline('question-answering', model=model_QA, tokenizer=tokenizer)"
   ]
  },
  {
   "cell_type": "code",
   "execution_count": 74,
   "metadata": {},
   "outputs": [
    {
     "name": "stdout",
     "output_type": "stream",
     "text": [
      "Query : L'ENSTA propose t il des logements ?\n",
      "{'score': 0.14650440216064453, 'start': 0, 'end': 58, 'answer': 'L’École dispose d’une résidence étudiante de 430 logements'}\n",
      "{'score': 0.19047695398330688, 'start': 160, 'end': 184, 'answer': 'Pour plus d’informations'}\n",
      "{'score': 0.04595576226711273, 'start': 0, 'end': 11, 'answer': 'Plébiscitée'}\n",
      "{'score': 0.07958044856786728, 'start': 0, 'end': 37, 'answer': 'De nombreux enseignements de 3e année'}\n",
      "{'score': 0.018209895119071007, 'start': 377, 'end': 421, 'answer': 'Elle se clôt par la semaine de l’innovation,'}\n",
      "{'score': 0.2368602305650711, 'start': 0, 'end': 45, 'answer': 'L’ENSTA Paris propose 6 Mastères spécialisés,'}\n",
      "{'score': 0.09079956263303757, 'start': 28, 'end': 45, 'answer': 'proposé par ENSTA'}\n",
      "{'score': 0.02829146198928356, 'start': 172, 'end': 191, 'answer': 'Le parcours proposé'}\n",
      "{'score': 0.39515548944473267, 'start': 325, 'end': 398, 'answer': 'l’association avec le profil « Recherche et Innovation » est recommandée.'}\n",
      "{'score': 0.025951895862817764, 'start': 41, 'end': 72, 'answer': 'l’ENSTA Paris propose un cursus'}\n"
     ]
    }
   ],
   "source": [
    "#CamemBERT answering\n",
    "#context = \" \".join(retrieved_context)\n",
    "print(\"Query :\", query)\n",
    "# print(\"Context :\",context)\n",
    "for context in retrieved_context:\n",
    "    result = nlp({\n",
    "        'question': query,\n",
    "        'context': context\n",
    "    })\n",
    "    print(result)\n",
    "\n",
    "\n",
    "    "
   ]
  },
  {
   "cell_type": "code",
   "execution_count": 65,
   "metadata": {},
   "outputs": [
    {
     "name": "stdout",
     "output_type": "stream",
     "text": [
      "['Le diplôme d’ingénieur de l’ENSTA Paris est délivré selon deux voies : la voie étudiante (FISE) et la voie par apprentissage (FISEA). Quelle que soit la voie suivie, c’est bien le même diplôme qui est délivré à l’issue du cursus. L’excellence de la formation reste la même. La 1re année se fait toujours sous statut étudiant', 'Les étudiants issus des CPGE PT et TSI, de licence ou de DUT bénéficient d’un encadrement spécifique et personnalisé : coursTD intégrés pour les enseignements les plus ardus, accompagnement du travail personnel.', 'Les diplômés intègrent des grandes entreprises nationales ou internationales, des PME innovantes, ou se lancent dans l’entrepreneuriat. Environ 80% d’entre eux signent un contrat de travail avant l’obtention du diplôme et 99% travaillent dans les 6 mois après l’obtention du diplôme.']\n"
     ]
    }
   ],
   "source": [
    "print(retrieved_context)"
   ]
  }
 ],
 "metadata": {
  "kernelspec": {
   "display_name": "env",
   "language": "python",
   "name": "python3"
  },
  "language_info": {
   "codemirror_mode": {
    "name": "ipython",
    "version": 3
   },
   "file_extension": ".py",
   "mimetype": "text/x-python",
   "name": "python",
   "nbconvert_exporter": "python",
   "pygments_lexer": "ipython3",
   "version": "3.10.9"
  },
  "orig_nbformat": 4,
  "vscode": {
   "interpreter": {
    "hash": "5e25eb6feeabdd95068346e09c8abefdb4df4550322e7c945ef854e832b3b69e"
   }
  }
 },
 "nbformat": 4,
 "nbformat_minor": 2
}
